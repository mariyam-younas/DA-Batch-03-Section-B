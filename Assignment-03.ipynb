{
 "cells": [
  {
   "cell_type": "markdown",
   "id": "040aea0c-eda0-465a-b3f6-fd58237a430b",
   "metadata": {},
   "source": [
    "Question 1: Age Group Classification \n",
    "\n",
    "Write a Python program that takes the age of a person as input and classifies them into one of the following age groups:\n",
    "\n",
    "\"Child\" if the age is between 0 and 12 (inclusive).\n",
    "\n",
    "\"Teenager\" if the age is between 13 and 19 (inclusive).\n",
    "\n",
    "\"Adult\" if the age is between 20 and 64 (inclusive).\n",
    "\n",
    "\"Senior\" if the age is 65 or older.\n"
   ]
  },
  {
   "cell_type": "code",
   "execution_count": 35,
   "id": "5d01f20a-8412-4275-8c22-f35139e034f6",
   "metadata": {},
   "outputs": [
    {
     "name": "stdin",
     "output_type": "stream",
     "text": [
      "Enter Your Age:  12\n"
     ]
    },
    {
     "name": "stdout",
     "output_type": "stream",
     "text": [
      "Child\n"
     ]
    }
   ],
   "source": [
    "#Case 1: Child\n",
    "\n",
    "age = int(input(\"Enter Your Age: \"))\n",
    "if 0<=age<=12:\n",
    "   print(\"Child\")\n",
    "elif 13<=age<=19:\n",
    "   print(\"Teenager\")\n",
    "elif 20<=age<=64:\n",
    "   print(\"Adult\")\n",
    "elif age>=65:\n",
    "   print(\"Senior\")"
   ]
  },
  {
   "cell_type": "code",
   "execution_count": 31,
   "id": "719d2a05-7d4f-48ad-a27f-7d3857177ed7",
   "metadata": {},
   "outputs": [
    {
     "name": "stdin",
     "output_type": "stream",
     "text": [
      "Enter Your Age:  17\n"
     ]
    },
    {
     "name": "stdout",
     "output_type": "stream",
     "text": [
      "Teenager\n"
     ]
    }
   ],
   "source": [
    "#Case 2: Teenager\n",
    "\n",
    "age = int(input(\"Enter Your Age: \"))\n",
    "if 0<=age<=12:\n",
    "   print(\"Child\")\n",
    "elif 13<=age<=19:\n",
    "   print(\"Teenager\")\n",
    "elif 20<=age<=64:\n",
    "   print(\"Adult\")\n",
    "elif age>=65:\n",
    "   print(\"Senior\")"
   ]
  },
  {
   "cell_type": "code",
   "execution_count": 27,
   "id": "465c390d-cebd-4c73-b2e1-288cfcec8dcb",
   "metadata": {},
   "outputs": [
    {
     "name": "stdin",
     "output_type": "stream",
     "text": [
      "Enter Your Age:  57\n"
     ]
    },
    {
     "name": "stdout",
     "output_type": "stream",
     "text": [
      "Adult\n"
     ]
    }
   ],
   "source": [
    "#Case 3: Adult\n",
    "\n",
    "age = int(input(\"Enter Your Age: \"))\n",
    "if 0<=age<=12:\n",
    "   print(\"Child\")\n",
    "elif 13<=age<=19:\n",
    "   print(\"Teenager\")\n",
    "elif 20<=age<=64:\n",
    "   print(\"Adult\")\n",
    "elif age>=65:\n",
    "   print(\"Senior\")"
   ]
  },
  {
   "cell_type": "code",
   "execution_count": 29,
   "id": "2a90dfc9-5335-4de9-a844-412097ccdebf",
   "metadata": {},
   "outputs": [
    {
     "name": "stdin",
     "output_type": "stream",
     "text": [
      "Enter Your Age:  67\n"
     ]
    },
    {
     "name": "stdout",
     "output_type": "stream",
     "text": [
      "Senior\n"
     ]
    }
   ],
   "source": [
    "#Case 4: Senior\n",
    "\n",
    "age = int(input(\"Enter Your Age: \"))\n",
    "if 0<=age<=12:\n",
    "   print(\"Child\")\n",
    "elif 13<=age<=19:\n",
    "   print(\"Teenager\")\n",
    "elif 20<=age<=64:\n",
    "   print(\"Adult\")\n",
    "elif age>=65:\n",
    "   print(\"Senior\")"
   ]
  },
  {
   "cell_type": "markdown",
   "id": "5068bb33-315c-4a5d-be95-4caa94afe993",
   "metadata": {},
   "source": [
    "Q2. Write a Python program that asks the user to enter an email address. The program should check \n",
    "if the email contains the characters @ and \".\" (ignoring case). If either character is present, print \n",
    "\"Email format is valid.\" Otherwise, print \"Invalid email format.\""
   ]
  },
  {
   "cell_type": "code",
   "execution_count": 15,
   "id": "15126c93-c704-4efc-98d6-308aab18be1d",
   "metadata": {},
   "outputs": [
    {
     "name": "stdin",
     "output_type": "stream",
     "text": [
      "Enter Your Email Address:  mariyam@gmail-com\n"
     ]
    },
    {
     "name": "stdout",
     "output_type": "stream",
     "text": [
      "Email format is valid\n"
     ]
    }
   ],
   "source": [
    "#Case 1: Email with \"@\" only\n",
    "email = input(\"Enter Your Email Address: \")\n",
    "if \"@\" in email or \".\" in email:\n",
    "   print(\"Email format is valid\")\n",
    "else:\n",
    "   print(\"Invalid Email Format\")"
   ]
  },
  {
   "cell_type": "code",
   "execution_count": 17,
   "id": "2128fb8c-c5d3-4aab-b7f6-538b48fe3fd6",
   "metadata": {},
   "outputs": [
    {
     "name": "stdin",
     "output_type": "stream",
     "text": [
      "Enter Your Email Address:  mariyam_gmail.com\n"
     ]
    },
    {
     "name": "stdout",
     "output_type": "stream",
     "text": [
      "Email format is valid\n"
     ]
    }
   ],
   "source": [
    "#Case 2: Email with \".\" only\n",
    "email = input(\"Enter Your Email Address: \")\n",
    "if \"@\" in email or \".\" in email:\n",
    "   print(\"Email format is valid\")\n",
    "else:\n",
    "   print(\"Invalid Email Format\")"
   ]
  },
  {
   "cell_type": "code",
   "execution_count": 19,
   "id": "46730999-9a96-47ff-b4ae-474bbe4b714a",
   "metadata": {},
   "outputs": [
    {
     "name": "stdin",
     "output_type": "stream",
     "text": [
      "Enter Your Email Address:  mariyam@gmail.com\n"
     ]
    },
    {
     "name": "stdout",
     "output_type": "stream",
     "text": [
      "Email format is valid\n"
     ]
    }
   ],
   "source": [
    "#Case 3: Email with both \"@\" and \".\"\n",
    "email = input(\"Enter Your Email Address: \")\n",
    "if \"@\" in email or \".\" in email:\n",
    "   print(\"Email format is valid\")\n",
    "else:\n",
    "   print(\"Invalid Email Format\")"
   ]
  },
  {
   "cell_type": "code",
   "execution_count": 21,
   "id": "5d415c20-377b-41b1-bfcf-7a3730539207",
   "metadata": {},
   "outputs": [
    {
     "name": "stdin",
     "output_type": "stream",
     "text": [
      "Enter Your Email Address:  mariyam_gamil_com\n"
     ]
    },
    {
     "name": "stdout",
     "output_type": "stream",
     "text": [
      "Invalid Email Format\n"
     ]
    }
   ],
   "source": [
    "#Case 4: Email with neither \"@\" nor \".\"\n",
    "email = input(\"Enter Your Email Address: \")\n",
    "if \"@\" in email or \".\" in email:\n",
    "   print(\"Email format is valid\")\n",
    "else:\n",
    "   print(\"Invalid Email Format\")"
   ]
  },
  {
   "cell_type": "markdown",
   "id": "a074ddbe-c5c4-455e-ac3c-53fbbc6c2d56",
   "metadata": {},
   "source": [
    "Q3. Write a Python program that takes three numbers as input and determines the largest among them. \n",
    "Also, check if any or all of the numbers are equal.\""
   ]
  },
  {
   "cell_type": "code",
   "execution_count": 70,
   "id": "5e7ecc13-1d6c-4091-9873-81b8943b264f",
   "metadata": {},
   "outputs": [
    {
     "name": "stdin",
     "output_type": "stream",
     "text": [
      "Enter the first number:  95\n",
      "Enter the second number:  95\n",
      "Enter the third number:  100\n"
     ]
    },
    {
     "name": "stdout",
     "output_type": "stream",
     "text": [
      "Third number is largest: 100\n",
      "The first and second numbers are equal.\n"
     ]
    }
   ],
   "source": [
    "num1 = int(input(\"Enter the first number: \"))\n",
    "num2 = int(input(\"Enter the second number: \"))\n",
    "num3 = int(input(\"Enter the third number: \"))\n",
    "# Find the largest number\n",
    "if num1 >= num2 and num1 >= num3:\n",
    "    print(\"First number is largest:\", num1)\n",
    "elif num2 >= num1 and num2 >= num3:\n",
    "    print(\"Second number is largest:\", num2)\n",
    "else:\n",
    "    print(\"Third number is largest:\", num3)\n",
    "# Check for equal numbers\n",
    "if num1 == num2 and num2 == num3:\n",
    "    print(\"All three numbers are equal.\")\n",
    "elif num1 == num2:\n",
    "    print(\"The first and second numbers are equal.\")\n",
    "elif num2 == num3:\n",
    "    print(\"The second and third numbers are equal.\")\n",
    "elif num1 == num3:\n",
    "    print(\"The first and third numbers are equal.\")"
   ]
  },
  {
   "cell_type": "markdown",
   "id": "55560bd6-a9d8-4e57-a192-b3e9932ff5cb",
   "metadata": {},
   "source": [
    "Q4. Write a Python program that:\n",
    "\n",
    "Asks the user to enter a number.\n",
    "\n",
    "Checks whether the number is positive.\n",
    "\n",
    "If yes, further check if it's even or odd.\n",
    "\n",
    "Print \"The number is positive and even\" if divisible by 2.\n",
    "\n",
    "Print \"The number is positive and odd\" if not divisible by 2.\n",
    "\n",
    "If the number is zero or negative, print \"The number is not positive\".\n",
    "\n"
   ]
  },
  {
   "cell_type": "code",
   "execution_count": 37,
   "id": "73fac951-1cab-414d-a2ae-859a516c4928",
   "metadata": {},
   "outputs": [
    {
     "name": "stdin",
     "output_type": "stream",
     "text": [
      "Enter the number:  44\n"
     ]
    },
    {
     "name": "stdout",
     "output_type": "stream",
     "text": [
      "The Number is Positive and Even\n"
     ]
    }
   ],
   "source": [
    "#Case1: The Number is Positive and Even\n",
    "\n",
    "number =int(input(\"Enter the number: \"))\n",
    "if number > 0 and number % 2==0:\n",
    "   print(\"The Number is Positive and Even\")\n",
    "elif number > 0 and number % 2!=0:\n",
    "   print(\"The Number is Positive and Odd\")\n",
    "else:\n",
    "   print(\"The Number is not positive\")"
   ]
  },
  {
   "cell_type": "code",
   "execution_count": 39,
   "id": "80d20faa-1212-4d98-98aa-ac3b68829734",
   "metadata": {},
   "outputs": [
    {
     "name": "stdin",
     "output_type": "stream",
     "text": [
      "Enter the number:  33\n"
     ]
    },
    {
     "name": "stdout",
     "output_type": "stream",
     "text": [
      "The Number is Positive and Odd\n"
     ]
    }
   ],
   "source": [
    "#Case2: The Number is Positive and Odd\n",
    "\n",
    "number =int(input(\"Enter the number: \"))\n",
    "if number > 0 and number % 2==0:\n",
    "   print(\"The Number is Positive and Even\")\n",
    "elif number > 0 and number % 2!=0:\n",
    "   print(\"The Number is Positive and Odd\")\n",
    "else:\n",
    "   print(\"The Number is not positive\")"
   ]
  },
  {
   "cell_type": "code",
   "execution_count": 41,
   "id": "bfdda386-d080-44fc-8f8b-7c5e76fbc8e8",
   "metadata": {},
   "outputs": [
    {
     "name": "stdin",
     "output_type": "stream",
     "text": [
      "Enter the number:  -95\n"
     ]
    },
    {
     "name": "stdout",
     "output_type": "stream",
     "text": [
      "The Number is not positive\n"
     ]
    }
   ],
   "source": [
    "#Case3: The Number is not Positive\n",
    "\n",
    "number =int(input(\"Enter the number: \"))\n",
    "if number > 0 and number % 2==0:\n",
    "   print(\"The Number is Positive and Even\")\n",
    "elif number > 0 and number % 2!=0:\n",
    "   print(\"The Number is Positive and Odd\")\n",
    "else:\n",
    "   print(\"The Number is not positive\")"
   ]
  },
  {
   "cell_type": "markdown",
   "id": "800fe26a-5d6e-4107-97ba-62fa4f913093",
   "metadata": {},
   "source": [
    "Q5. Ask the user for a username and password. Check if the username is correct. If it is, then check \n",
    "if the password is correct. If both are correct, print \"Access granted\".\n",
    "\n",
    "username = \"admin\"\n",
    "\n",
    "password = \"1234\""
   ]
  },
  {
   "cell_type": "code",
   "execution_count": 43,
   "id": "4d0ffda0-01d3-4153-82d5-d50af190ede6",
   "metadata": {},
   "outputs": [
    {
     "name": "stdin",
     "output_type": "stream",
     "text": [
      "Enter the username:  admin\n",
      "Enter the Password:  1234\n"
     ]
    },
    {
     "name": "stdout",
     "output_type": "stream",
     "text": [
      "Access Granted\n"
     ]
    }
   ],
   "source": [
    "#Case 1: Access Granted\n",
    "\n",
    "username =input(\"Enter the username: \")\n",
    "password =input(\"Enter the Password: \")\n",
    "if username == \"admin\" and password == \"1234\":\n",
    "   print(\"Access Granted\")\n",
    "else:\n",
    "   print(\"Access Denied\")"
   ]
  },
  {
   "cell_type": "code",
   "execution_count": 45,
   "id": "235aac8c-b723-4e41-9259-12239580c759",
   "metadata": {},
   "outputs": [
    {
     "name": "stdin",
     "output_type": "stream",
     "text": [
      "Enter the username:  adminn\n",
      "Enter the Password:  45678\n"
     ]
    },
    {
     "name": "stdout",
     "output_type": "stream",
     "text": [
      "Access Denied\n"
     ]
    }
   ],
   "source": [
    "#Case 2: Access Denied\n",
    "\n",
    "username =input(\"Enter the username: \")\n",
    "password =input(\"Enter the Password: \")\n",
    "if username == \"admin\" and password == \"1234\":\n",
    "   print(\"Access Granted\")\n",
    "else:\n",
    "   print(\"Access Denied\")"
   ]
  },
  {
   "cell_type": "markdown",
   "id": "d7512946-1c55-48d5-b62d-4f17c84f457a",
   "metadata": {},
   "source": [
    "Q6. Take an integer input from the user and check whether the entered value exists in the tuple \n",
    "my_tuple = (5, 10, 15, 20, 25). Print an appropriate message based on the result."
   ]
  },
  {
   "cell_type": "code",
   "execution_count": 47,
   "id": "d551cc2a-ff78-46fc-a62f-53ddbbac56cb",
   "metadata": {},
   "outputs": [
    {
     "name": "stdin",
     "output_type": "stream",
     "text": [
      "Enter Value:  15\n"
     ]
    },
    {
     "name": "stdout",
     "output_type": "stream",
     "text": [
      "value found\n"
     ]
    }
   ],
   "source": [
    "#Case 1: Value Found\n",
    "\n",
    "my_tuple = (5, 10, 15, 20, 25)\n",
    "check_value = int(input(\"Enter Value: \"))\n",
    "if check_value in my_tuple:\n",
    "   print(\"value found\")\n",
    "else:\n",
    "   print(\"value not found\")"
   ]
  },
  {
   "cell_type": "code",
   "execution_count": 49,
   "id": "eda8543b-c273-4647-87ff-49bf8d38c475",
   "metadata": {},
   "outputs": [
    {
     "name": "stdin",
     "output_type": "stream",
     "text": [
      "Enter Value:  23\n"
     ]
    },
    {
     "name": "stdout",
     "output_type": "stream",
     "text": [
      "value not found\n"
     ]
    }
   ],
   "source": [
    "#Case 2: Value Not Found\n",
    "\n",
    "my_tuple = (5, 10, 15, 20, 25)\n",
    "check_value = int(input(\"Enter Value: \"))\n",
    "if check_value in my_tuple:\n",
    "   print(\"value found\")\n",
    "else:\n",
    "   print(\"value not found\")"
   ]
  },
  {
   "cell_type": "markdown",
   "id": "f38b44b4-1244-4fa9-a186-8153caa421ec",
   "metadata": {},
   "source": [
    "Q7. Create a program that takes the user's first name, last name, and age as input, packs them into a tuple, and prints the tuple."
   ]
  },
  {
   "cell_type": "code",
   "execution_count": 55,
   "id": "7de545eb-6460-4346-bc81-eedc1a1393b6",
   "metadata": {},
   "outputs": [
    {
     "name": "stdin",
     "output_type": "stream",
     "text": [
      "Enter First Name:  Mariyam\n",
      "Enter Your Last Name:  Younas\n",
      "Enter Your Age:  24\n"
     ]
    },
    {
     "name": "stdout",
     "output_type": "stream",
     "text": [
      "('Mariyam', 'Younas', 24)\n"
     ]
    }
   ],
   "source": [
    "#Pack into tuple\n",
    "\n",
    "first_name = input(\"Enter First Name: \")\n",
    "last_name = input(\"Enter Your Last Name: \")\n",
    "age = int(input(\"Enter Your Age: \"))\n",
    "bio_data = (first_name, last_name, age)\n",
    "print(bio_data)"
   ]
  },
  {
   "cell_type": "markdown",
   "id": "6a08567b-6f6c-4374-a54e-992c09a31780",
   "metadata": {},
   "source": [
    "Q8. Given the tuple coordinates = (4, 5, 6), unpack the elements of the tuple into three variables x, y, and z. \n",
    "Then, calculate and print the sum of the variables."
   ]
  },
  {
   "cell_type": "code",
   "execution_count": 57,
   "id": "955a3177-61e6-4c64-a773-d50b4c9c9611",
   "metadata": {},
   "outputs": [
    {
     "name": "stdout",
     "output_type": "stream",
     "text": [
      "4\n",
      "5\n",
      "6\n",
      "15\n"
     ]
    }
   ],
   "source": [
    "#Sum of the variables\n",
    "\n",
    "coordinates = (4, 5, 6)\n",
    "x, y, z = coordinates\n",
    "print(x)\n",
    "print(y)\n",
    "print(z)\n",
    "print(sum(coordinates))"
   ]
  },
  {
   "cell_type": "markdown",
   "id": "d3973711-1c49-436f-aaff-e0a19877f525",
   "metadata": {},
   "source": [
    "Q9. Given the tuple my_tuple = (1, 2, 3, 4, 5), remove the element 3 from the tuple by first converting it to a list, \n",
    "and then print the resulting tuple."
   ]
  },
  {
   "cell_type": "code",
   "execution_count": 61,
   "id": "d8164434-96d7-4e31-889f-af10afaaa75c",
   "metadata": {},
   "outputs": [
    {
     "name": "stdout",
     "output_type": "stream",
     "text": [
      "[1, 2, 4, 5]\n"
     ]
    }
   ],
   "source": [
    "my_tuple = (1, 2, 3, 4, 5)\n",
    "my_list = list(my_tuple)\n",
    "my_list.remove(3)\n",
    "my_tuple = tuple(my_list)\n",
    "print(my_list)"
   ]
  },
  {
   "cell_type": "markdown",
   "id": "c9c6a478-5d3d-4e1e-8bce-b9479925c7c5",
   "metadata": {},
   "source": [
    "Q10. Given the tuple numbers = (10, 20, 5, 30, 15), find and print the maximum and minimum values in the tuple."
   ]
  },
  {
   "cell_type": "code",
   "execution_count": 59,
   "id": "23f2258c-e489-4d2a-8b1c-20b9e76ac764",
   "metadata": {},
   "outputs": [
    {
     "name": "stdout",
     "output_type": "stream",
     "text": [
      "minimun_value: 5\n",
      "maximun_value: 30\n"
     ]
    }
   ],
   "source": [
    "num = (10, 20, 5, 30, 15)\n",
    "print(\"minimun_value:\", min(num))\n",
    "print(\"maximun_value:\", max(num))"
   ]
  },
  {
   "cell_type": "code",
   "execution_count": null,
   "id": "3a37a770-9e04-48da-a28a-31d220dc8fae",
   "metadata": {},
   "outputs": [],
   "source": []
  }
 ],
 "metadata": {
  "kernelspec": {
   "display_name": "Python [conda env:base] *",
   "language": "python",
   "name": "conda-base-py"
  },
  "language_info": {
   "codemirror_mode": {
    "name": "ipython",
    "version": 3
   },
   "file_extension": ".py",
   "mimetype": "text/x-python",
   "name": "python",
   "nbconvert_exporter": "python",
   "pygments_lexer": "ipython3",
   "version": "3.12.7"
  }
 },
 "nbformat": 4,
 "nbformat_minor": 5
}
