{
 "cells": [
  {
   "cell_type": "markdown",
   "id": "ba91219f-3976-49dc-b529-519057f43411",
   "metadata": {},
   "source": [
    "1. Write a program that takes two numbers (a = 15 , b = 4) and prints their:\n",
    "\n",
    "   Sum\n",
    "\n",
    "   Difference\n",
    "\n",
    "   Product\n",
    "\n",
    "   Division\n",
    "\n",
    "   Floor Division\n",
    "\n",
    "   Modulus"
   ]
  },
  {
   "cell_type": "code",
   "execution_count": 3,
   "id": "d113be74-48a9-4c66-abc1-90b1593314a8",
   "metadata": {},
   "outputs": [],
   "source": [
    "a=15\n",
    "b=4\n",
    "sum_total = a+b\n",
    "difference = a-b\n",
    "product = a*b\n",
    "division = a/b\n",
    "floor_division = a//b\n",
    "modulus =a%b"
   ]
  },
  {
   "cell_type": "code",
   "execution_count": 5,
   "id": "da91b18a-314c-4e27-9932-894d62934599",
   "metadata": {},
   "outputs": [
    {
     "name": "stdout",
     "output_type": "stream",
     "text": [
      "19\n",
      "11\n",
      "60\n",
      "3.75\n",
      "3\n",
      "3\n"
     ]
    }
   ],
   "source": [
    "print(sum_total)\n",
    "print(difference)\n",
    "print(product)\n",
    "print(division)\n",
    "print(floor_division)\n",
    "print(modulus)"
   ]
  },
  {
   "cell_type": "markdown",
   "id": "323137d4-4794-4b18-9c02-0444e4323157",
   "metadata": {},
   "source": [
    "2. Convert the following: \n",
    "(num1 = 10, num2 = 5.6, num3 = 4.43)\n",
    "\n",
    "- Integer to float\n",
    "\n",
    "- Float to integer\n",
    "\n",
    "- Float to String"
   ]
  },
  {
   "cell_type": "code",
   "execution_count": 2,
   "id": "f1731a41-bc80-4f78-857a-1cbe7e087dd5",
   "metadata": {},
   "outputs": [
    {
     "data": {
      "text/plain": [
       "int"
      ]
     },
     "execution_count": 2,
     "metadata": {},
     "output_type": "execute_result"
    }
   ],
   "source": [
    "num1 = 10\n",
    "type(num1)"
   ]
  },
  {
   "cell_type": "code",
   "execution_count": 3,
   "id": "2a483111-6015-4174-ba72-ce381b8a275c",
   "metadata": {},
   "outputs": [
    {
     "data": {
      "text/plain": [
       "float"
      ]
     },
     "execution_count": 3,
     "metadata": {},
     "output_type": "execute_result"
    }
   ],
   "source": [
    "float_num1 = float(num1)\n",
    "type(float_num1)"
   ]
  },
  {
   "cell_type": "code",
   "execution_count": 4,
   "id": "c260b807-feb7-4e89-899c-19fe509b2b47",
   "metadata": {},
   "outputs": [
    {
     "data": {
      "text/plain": [
       "float"
      ]
     },
     "execution_count": 4,
     "metadata": {},
     "output_type": "execute_result"
    }
   ],
   "source": [
    "num2 = 5.6\n",
    "num3 = 4.43\n",
    "type(num2)\n",
    "type(num3)"
   ]
  },
  {
   "cell_type": "code",
   "execution_count": 5,
   "id": "97e89c2f-b86a-4ed7-a472-a44c2405ba2d",
   "metadata": {},
   "outputs": [
    {
     "data": {
      "text/plain": [
       "int"
      ]
     },
     "execution_count": 5,
     "metadata": {},
     "output_type": "execute_result"
    }
   ],
   "source": [
    "int_num2 = int(num2)\n",
    "int_num3 = int(num3)\n",
    "type(int_num2)\n",
    "type(int_num3)"
   ]
  },
  {
   "cell_type": "code",
   "execution_count": 6,
   "id": "d05a06ad-dcbe-4823-9887-311de5157f3a",
   "metadata": {},
   "outputs": [
    {
     "data": {
      "text/plain": [
       "str"
      ]
     },
     "execution_count": 6,
     "metadata": {},
     "output_type": "execute_result"
    }
   ],
   "source": [
    "str_num1 = str(float_num1)\n",
    "str_num2 = str(num2)\n",
    "str_num3 = str(num3)\n",
    "type(str_num1)\n",
    "type(str_num2)\n",
    "type(str_num3)"
   ]
  },
  {
   "cell_type": "markdown",
   "id": "b6a8f851-44c6-4906-a0db-344672319251",
   "metadata": {},
   "source": [
    "3. fruits = [\"apple\", \"banana\", \"cherry\", \"coconut\", \"pineapple\", \"mango\", \"orange\"]\n",
    "\n",
    "Print below using indexing:\n",
    "\n",
    "- The first fruit\n",
    "\n",
    "- The last fruit (negative indexing)\n",
    "\n",
    "- The fourth fruit"
   ]
  },
  {
   "cell_type": "code",
   "execution_count": 8,
   "id": "ff83f05b-94a8-446d-b563-5f8409ccf104",
   "metadata": {},
   "outputs": [
    {
     "data": {
      "text/plain": [
       "['apple', 'banana', 'cherry', 'coconut', 'pineapple', 'mango', 'orange']"
      ]
     },
     "execution_count": 8,
     "metadata": {},
     "output_type": "execute_result"
    }
   ],
   "source": [
    "fruits = [\"apple\", \"banana\", \"cherry\", \"coconut\", \"pineapple\", \"mango\", \"orange\"]\n",
    "fruits"
   ]
  },
  {
   "cell_type": "code",
   "execution_count": 9,
   "id": "a8b69f07-a83c-4aac-b4e8-54884b81b078",
   "metadata": {},
   "outputs": [
    {
     "name": "stdout",
     "output_type": "stream",
     "text": [
      "apple\n"
     ]
    }
   ],
   "source": [
    "print(fruits[0])"
   ]
  },
  {
   "cell_type": "code",
   "execution_count": 10,
   "id": "b90ce8dc-2d22-4313-92b5-a1c7cb9b22c5",
   "metadata": {},
   "outputs": [
    {
     "name": "stdout",
     "output_type": "stream",
     "text": [
      "orange\n"
     ]
    }
   ],
   "source": [
    "print(fruits[-1])"
   ]
  },
  {
   "cell_type": "code",
   "execution_count": 11,
   "id": "4890ea8f-8d9d-4fb0-a5d0-26d01608ce2c",
   "metadata": {},
   "outputs": [
    {
     "name": "stdout",
     "output_type": "stream",
     "text": [
      "coconut\n"
     ]
    }
   ],
   "source": [
    "print(fruits[3])"
   ]
  },
  {
   "cell_type": "markdown",
   "id": "02eb9ef7-85ad-4036-93c4-5c3f27346ab4",
   "metadata": {},
   "source": [
    "4. List Slicing\n",
    "\n",
    "numbers = [10, 20, 30, 40, 50]\n",
    "\n",
    "Print:\n",
    "\n",
    "- First three elements\n",
    "\n",
    "- Last two elements\n",
    "\n",
    "- Print all elements except the first one\n",
    "\n",
    "- Print all elements except the last one\n",
    "\n",
    "- Print the list in reverse using slicing\n",
    "\n",
    "-  Print every second element"
   ]
  },
  {
   "cell_type": "code",
   "execution_count": 13,
   "id": "74abbb70-e35d-4691-bda6-596084757dc2",
   "metadata": {},
   "outputs": [
    {
     "data": {
      "text/plain": [
       "[10, 20, 30, 40, 50]"
      ]
     },
     "execution_count": 13,
     "metadata": {},
     "output_type": "execute_result"
    }
   ],
   "source": [
    "numbers = [10, 20, 30, 40, 50]\n",
    "numbers"
   ]
  },
  {
   "cell_type": "code",
   "execution_count": 14,
   "id": "c59a1b84-9720-49b2-a534-4cb857415f74",
   "metadata": {},
   "outputs": [
    {
     "name": "stdout",
     "output_type": "stream",
     "text": [
      "[10, 20, 30]\n"
     ]
    }
   ],
   "source": [
    "print(numbers[:3])"
   ]
  },
  {
   "cell_type": "code",
   "execution_count": 15,
   "id": "ff15693c-b337-45ba-921a-c7742a8392f0",
   "metadata": {},
   "outputs": [
    {
     "name": "stdout",
     "output_type": "stream",
     "text": [
      "[40, 50]\n"
     ]
    }
   ],
   "source": [
    "print(numbers[3:])"
   ]
  },
  {
   "cell_type": "code",
   "execution_count": 16,
   "id": "40310158-76c8-4972-8645-ac22c3a7efd8",
   "metadata": {},
   "outputs": [
    {
     "name": "stdout",
     "output_type": "stream",
     "text": [
      "[20, 30, 40, 50]\n"
     ]
    }
   ],
   "source": [
    "print(numbers[1:])"
   ]
  },
  {
   "cell_type": "code",
   "execution_count": 17,
   "id": "ceef5573-f9f1-4043-a227-e45bd0d14462",
   "metadata": {},
   "outputs": [
    {
     "name": "stdout",
     "output_type": "stream",
     "text": [
      "[10, 20, 30, 40]\n"
     ]
    }
   ],
   "source": [
    "print(numbers[0:4])"
   ]
  },
  {
   "cell_type": "code",
   "execution_count": 18,
   "id": "58be2bc8-bd8f-4292-91cc-000f20ad0c28",
   "metadata": {},
   "outputs": [
    {
     "name": "stdout",
     "output_type": "stream",
     "text": [
      "[50, 40, 30, 20, 10]\n"
     ]
    }
   ],
   "source": [
    "print(numbers[::-1])"
   ]
  },
  {
   "cell_type": "code",
   "execution_count": 99,
   "id": "b972dbce-28e4-4d41-988b-7a007de05dd5",
   "metadata": {},
   "outputs": [
    {
     "name": "stdout",
     "output_type": "stream",
     "text": [
      "[10, 30, 50]\n"
     ]
    }
   ],
   "source": [
    "print(numbers[::2])"
   ]
  },
  {
   "cell_type": "markdown",
   "id": "ca5024d0-feea-40ec-b36d-aa333ea27760",
   "metadata": {},
   "source": [
    "5. Add the number 10 to the end of the list using method.\n",
    "\n",
    "nums = [1, 2, 3]\n"
   ]
  },
  {
   "cell_type": "code",
   "execution_count": 21,
   "id": "842dea26-ebc1-4a9b-8279-99f1e01410f5",
   "metadata": {},
   "outputs": [
    {
     "data": {
      "text/plain": [
       "[1, 2, 3]"
      ]
     },
     "execution_count": 21,
     "metadata": {},
     "output_type": "execute_result"
    }
   ],
   "source": [
    "nums = [1, 2, 3]\n",
    "nums"
   ]
  },
  {
   "cell_type": "code",
   "execution_count": 22,
   "id": "994f739e-5d0b-4b1b-b20d-12a1b2f44831",
   "metadata": {},
   "outputs": [
    {
     "data": {
      "text/plain": [
       "[1, 2, 3, 10]"
      ]
     },
     "execution_count": 22,
     "metadata": {},
     "output_type": "execute_result"
    }
   ],
   "source": [
    "nums.append(10)\n",
    "nums"
   ]
  },
  {
   "cell_type": "markdown",
   "id": "cac03c9e-a77a-4f9f-b148-315ca1a228de",
   "metadata": {},
   "source": [
    "6. Insert the number 99 at index 1 using method.\n",
    "\n",
    "nums = [1, 2, 3]\n"
   ]
  },
  {
   "cell_type": "code",
   "execution_count": 24,
   "id": "b7b649f5-e374-49dc-a9c4-ab84e0e5537d",
   "metadata": {},
   "outputs": [
    {
     "data": {
      "text/plain": [
       "[1, 2, 3]"
      ]
     },
     "execution_count": 24,
     "metadata": {},
     "output_type": "execute_result"
    }
   ],
   "source": [
    "nums = [1, 2, 3]\n",
    "nums"
   ]
  },
  {
   "cell_type": "code",
   "execution_count": 25,
   "id": "20e920a3-8c13-4534-a683-0b11ce220399",
   "metadata": {},
   "outputs": [
    {
     "data": {
      "text/plain": [
       "[1, 99, 2, 3]"
      ]
     },
     "execution_count": 25,
     "metadata": {},
     "output_type": "execute_result"
    }
   ],
   "source": [
    "nums.insert(1, 99)\n",
    "nums"
   ]
  },
  {
   "cell_type": "markdown",
   "id": "755179b2-5aa8-4ba9-bb07-4054b83cf3f0",
   "metadata": {},
   "source": [
    "7.  Add the elements of another list [4, 5] to the original list using method\n",
    "\n",
    "nums = [1, 2, 3]"
   ]
  },
  {
   "cell_type": "code",
   "execution_count": 27,
   "id": "a072f116-d996-4b8f-beab-bfd0e13bdd11",
   "metadata": {},
   "outputs": [
    {
     "data": {
      "text/plain": [
       "[1, 2, 3]"
      ]
     },
     "execution_count": 27,
     "metadata": {},
     "output_type": "execute_result"
    }
   ],
   "source": [
    "nums = [1, 2, 3]\n",
    "nums"
   ]
  },
  {
   "cell_type": "code",
   "execution_count": 28,
   "id": "396bfdb6-5b41-4f2b-990a-48d3f216cc59",
   "metadata": {},
   "outputs": [
    {
     "data": {
      "text/plain": [
       "[1, 2, 3, 4, 5]"
      ]
     },
     "execution_count": 28,
     "metadata": {},
     "output_type": "execute_result"
    }
   ],
   "source": [
    "nums.extend([4,5])\n",
    "nums"
   ]
  },
  {
   "cell_type": "markdown",
   "id": "77c3acdf-c270-46b4-a620-e02e59b63f76",
   "metadata": {},
   "source": [
    "8.  Sort the list in ascending order using method\n",
    "\n",
    "nums = [4, 1, 3, 2]"
   ]
  },
  {
   "cell_type": "code",
   "execution_count": 30,
   "id": "c8bc2be7-094d-4eb8-b17c-eb8eefc53a23",
   "metadata": {},
   "outputs": [
    {
     "data": {
      "text/plain": [
       "[4, 1, 3, 2]"
      ]
     },
     "execution_count": 30,
     "metadata": {},
     "output_type": "execute_result"
    }
   ],
   "source": [
    "nums = [4, 1, 3, 2]\n",
    "nums"
   ]
  },
  {
   "cell_type": "code",
   "execution_count": 31,
   "id": "27d236cf-e95c-4cd7-9932-ff735d9f6613",
   "metadata": {},
   "outputs": [
    {
     "data": {
      "text/plain": [
       "[1, 2, 3, 4]"
      ]
     },
     "execution_count": 31,
     "metadata": {},
     "output_type": "execute_result"
    }
   ],
   "source": [
    "nums.sort()\n",
    "nums"
   ]
  },
  {
   "cell_type": "markdown",
   "id": "1ebc3d2e-7a9b-41a4-931c-0b5d3135cc5f",
   "metadata": {},
   "source": [
    "9. A customer orders several food items. Add the items to a list and then:\n",
    "\n",
    "order = [\"burger\", \"fries\", \"coke\"]\n",
    "\n",
    "- Add a new item \"ice cream\" using append()\n",
    "\n",
    "- Remove an item \"biryani\" using remove()\n",
    "\n",
    "- Show the final order"
   ]
  },
  {
   "cell_type": "code",
   "execution_count": 33,
   "id": "11f8a003-a468-43cd-947d-045123756ed8",
   "metadata": {},
   "outputs": [
    {
     "data": {
      "text/plain": [
       "['burger', 'fries', 'coke']"
      ]
     },
     "execution_count": 33,
     "metadata": {},
     "output_type": "execute_result"
    }
   ],
   "source": [
    "order = [\"burger\", \"fries\", \"coke\"]\n",
    "order"
   ]
  },
  {
   "cell_type": "code",
   "execution_count": 34,
   "id": "6790a234-9536-4a34-9f2e-c1964c91905e",
   "metadata": {},
   "outputs": [
    {
     "data": {
      "text/plain": [
       "['burger', 'fries', 'coke', 'ice cream']"
      ]
     },
     "execution_count": 34,
     "metadata": {},
     "output_type": "execute_result"
    }
   ],
   "source": [
    "order.append(\"ice cream\")\n",
    "order"
   ]
  },
  {
   "cell_type": "code",
   "execution_count": 35,
   "id": "a5240672-cf4b-43d8-bead-3101bed20fba",
   "metadata": {},
   "outputs": [
    {
     "data": {
      "text/plain": [
       "['burger', 'fries', 'coke', 'ice cream', 'biryani']"
      ]
     },
     "execution_count": 35,
     "metadata": {},
     "output_type": "execute_result"
    }
   ],
   "source": [
    "order.append(\"biryani\")\n",
    "order"
   ]
  },
  {
   "cell_type": "code",
   "execution_count": 36,
   "id": "1426e16b-09a8-4b6e-9c11-841e370ab1a2",
   "metadata": {},
   "outputs": [
    {
     "data": {
      "text/plain": [
       "['burger', 'fries', 'coke', 'ice cream']"
      ]
     },
     "execution_count": 36,
     "metadata": {},
     "output_type": "execute_result"
    }
   ],
   "source": [
    "order.remove(\"biryani\")\n",
    "order"
   ]
  },
  {
   "cell_type": "code",
   "execution_count": 37,
   "id": "5c901f63-6e64-4185-a04c-19472c7d8ed5",
   "metadata": {},
   "outputs": [
    {
     "data": {
      "text/plain": [
       "['burger', 'fries', 'coke', 'ice cream']"
      ]
     },
     "execution_count": 37,
     "metadata": {},
     "output_type": "execute_result"
    }
   ],
   "source": [
    "final_order = order\n",
    "final_order"
   ]
  },
  {
   "cell_type": "markdown",
   "id": "5bdde849-44d9-4ab6-b496-fb125d9b73bd",
   "metadata": {},
   "source": [
    "10. Track passengers on a bus:\n",
    "\n",
    "passengers = [\"Ali\", \"Zara\", \"Ahmed\"]\n",
    "\n",
    "\n",
    "- Insert a new passenger \"Sara\" at position 2\n",
    "\n",
    "- Remove passesnger who got off \"Zara\"\n",
    "\n",
    "- Reverse the order to show who entered first"
   ]
  },
  {
   "cell_type": "code",
   "execution_count": 39,
   "id": "5d34ff6f-eb9a-416e-bd4a-9950dc99561b",
   "metadata": {},
   "outputs": [
    {
     "data": {
      "text/plain": [
       "['Ali', 'Zara', 'Ahmed']"
      ]
     },
     "execution_count": 39,
     "metadata": {},
     "output_type": "execute_result"
    }
   ],
   "source": [
    "passengers = [\"Ali\", \"Zara\", \"Ahmed\"]\n",
    "passengers"
   ]
  },
  {
   "cell_type": "code",
   "execution_count": 71,
   "id": "4e574bc0-0bbb-4127-978f-539e373757e3",
   "metadata": {},
   "outputs": [
    {
     "data": {
      "text/plain": [
       "['Ali', 'Zara', 'Sara', 'Ahmed']"
      ]
     },
     "execution_count": 71,
     "metadata": {},
     "output_type": "execute_result"
    }
   ],
   "source": [
    "passengers.insert(2, \"Sara\")\n",
    "passengers"
   ]
  },
  {
   "cell_type": "code",
   "execution_count": 73,
   "id": "6da1d55b-e891-4305-95c1-99b150c636a8",
   "metadata": {},
   "outputs": [
    {
     "data": {
      "text/plain": [
       "['Ali', 'Sara', 'Ahmed']"
      ]
     },
     "execution_count": 73,
     "metadata": {},
     "output_type": "execute_result"
    }
   ],
   "source": [
    "passengers.remove(\"Zara\")\n",
    "passengers"
   ]
  },
  {
   "cell_type": "code",
   "execution_count": 101,
   "id": "05e570de-6cf5-43dc-b999-156794fc8e02",
   "metadata": {},
   "outputs": [
    {
     "data": {
      "text/plain": [
       "['Ahmed', 'Sara', 'Ali']"
      ]
     },
     "execution_count": 101,
     "metadata": {},
     "output_type": "execute_result"
    }
   ],
   "source": [
    "passengers.reverse()\n",
    "passengers"
   ]
  },
  {
   "cell_type": "code",
   "execution_count": null,
   "id": "b9d21e52-3329-4e37-8299-cd5e75ada8d3",
   "metadata": {},
   "outputs": [],
   "source": []
  }
 ],
 "metadata": {
  "kernelspec": {
   "display_name": "Python [conda env:base] *",
   "language": "python",
   "name": "conda-base-py"
  },
  "language_info": {
   "codemirror_mode": {
    "name": "ipython",
    "version": 3
   },
   "file_extension": ".py",
   "mimetype": "text/x-python",
   "name": "python",
   "nbconvert_exporter": "python",
   "pygments_lexer": "ipython3",
   "version": "3.12.7"
  }
 },
 "nbformat": 4,
 "nbformat_minor": 5
}
