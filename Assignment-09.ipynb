{
 "cells": [
  {
   "cell_type": "code",
   "execution_count": null,
   "id": "03593a18-41f5-4235-9ac0-8d28c5e8c013",
   "metadata": {},
   "outputs": [],
   "source": []
  }
 ],
 "metadata": {
  "kernelspec": {
   "display_name": "",
   "name": ""
  },
  "language_info": {
   "name": ""
  }
 },
 "nbformat": 4,
 "nbformat_minor": 5
}
