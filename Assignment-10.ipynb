{
 "cells": [
  {
   "cell_type": "code",
   "execution_count": 1,
   "id": "3e31a4d7-27b2-4757-b395-c88dd5581039",
   "metadata": {},
   "outputs": [
    {
     "name": "stdout",
     "output_type": "stream",
     "text": [
      "Defaulting to user installation because normal site-packages is not writeable\n",
      "Requirement already satisfied: pandas in c:\\users\\hp\\appdata\\roaming\\python\\python313\\site-packages (2.3.0)\n",
      "Requirement already satisfied: numpy>=1.26.0 in c:\\users\\hp\\appdata\\roaming\\python\\python313\\site-packages (from pandas) (2.3.0)\n",
      "Requirement already satisfied: python-dateutil>=2.8.2 in c:\\users\\hp\\appdata\\roaming\\python\\python313\\site-packages (from pandas) (2.9.0.post0)\n",
      "Requirement already satisfied: pytz>=2020.1 in c:\\users\\hp\\appdata\\roaming\\python\\python313\\site-packages (from pandas) (2025.2)\n",
      "Requirement already satisfied: tzdata>=2022.7 in c:\\users\\hp\\appdata\\roaming\\python\\python313\\site-packages (from pandas) (2025.2)\n",
      "Requirement already satisfied: six>=1.5 in c:\\users\\hp\\appdata\\roaming\\python\\python313\\site-packages (from python-dateutil>=2.8.2->pandas) (1.17.0)\n"
     ]
    }
   ],
   "source": [
    "!pip install pandas\n"
   ]
  },
  {
   "cell_type": "code",
   "execution_count": 30,
   "id": "c170721a-00ae-4022-b628-d87628e2f5ff",
   "metadata": {},
   "outputs": [],
   "source": [
    "import sqlite3\n",
    "import pandas as pd\n",
    "\n",
    "conn = sqlite3.connect('database.sqlite')\n"
   ]
  },
  {
   "cell_type": "code",
   "execution_count": 32,
   "id": "24057c94-cfd9-4304-9ddd-2cc0cff95dd6",
   "metadata": {},
   "outputs": [
    {
     "name": "stdout",
     "output_type": "stream",
     "text": [
      "       name\n",
      "0  Salaries\n"
     ]
    }
   ],
   "source": [
    "tables = pd.read_sql_query(\"SELECT name FROM sqlite_master WHERE type='table';\", conn)\n",
    "print(tables)\n"
   ]
  },
  {
   "cell_type": "markdown",
   "id": "55619cde-eebc-40b5-a8b2-e4ba40a46947",
   "metadata": {},
   "source": [
    ". Top 10 highest paid employees (by TotalPayBenefits)"
   ]
  },
  {
   "cell_type": "code",
   "execution_count": 36,
   "id": "39cf028b-a513-45b2-9341-1c2562eab5b0",
   "metadata": {},
   "outputs": [
    {
     "data": {
      "text/html": [
       "<div>\n",
       "<style scoped>\n",
       "    .dataframe tbody tr th:only-of-type {\n",
       "        vertical-align: middle;\n",
       "    }\n",
       "\n",
       "    .dataframe tbody tr th {\n",
       "        vertical-align: top;\n",
       "    }\n",
       "\n",
       "    .dataframe thead th {\n",
       "        text-align: right;\n",
       "    }\n",
       "</style>\n",
       "<table border=\"1\" class=\"dataframe\">\n",
       "  <thead>\n",
       "    <tr style=\"text-align: right;\">\n",
       "      <th></th>\n",
       "      <th>EmployeeName</th>\n",
       "      <th>TotalPayBenefits</th>\n",
       "    </tr>\n",
       "  </thead>\n",
       "  <tbody>\n",
       "    <tr>\n",
       "      <th>0</th>\n",
       "      <td>NATHANIEL FORD</td>\n",
       "      <td>567595.43</td>\n",
       "    </tr>\n",
       "    <tr>\n",
       "      <th>1</th>\n",
       "      <td>GARY JIMENEZ</td>\n",
       "      <td>538909.28</td>\n",
       "    </tr>\n",
       "    <tr>\n",
       "      <th>2</th>\n",
       "      <td>David Shinn</td>\n",
       "      <td>510732.68</td>\n",
       "    </tr>\n",
       "    <tr>\n",
       "      <th>3</th>\n",
       "      <td>Amy P Hart</td>\n",
       "      <td>479652.21</td>\n",
       "    </tr>\n",
       "    <tr>\n",
       "      <th>4</th>\n",
       "      <td>William J Coaker Jr.</td>\n",
       "      <td>436224.36</td>\n",
       "    </tr>\n",
       "    <tr>\n",
       "      <th>5</th>\n",
       "      <td>Gregory P Suhr</td>\n",
       "      <td>425815.28</td>\n",
       "    </tr>\n",
       "    <tr>\n",
       "      <th>6</th>\n",
       "      <td>Joanne M Hayes-White</td>\n",
       "      <td>422353.40</td>\n",
       "    </tr>\n",
       "    <tr>\n",
       "      <th>7</th>\n",
       "      <td>Gregory P Suhr</td>\n",
       "      <td>418019.22</td>\n",
       "    </tr>\n",
       "    <tr>\n",
       "      <th>8</th>\n",
       "      <td>Joanne M Hayes-White</td>\n",
       "      <td>417435.10</td>\n",
       "    </tr>\n",
       "    <tr>\n",
       "      <th>9</th>\n",
       "      <td>Ellen G Moffatt</td>\n",
       "      <td>415767.94</td>\n",
       "    </tr>\n",
       "  </tbody>\n",
       "</table>\n",
       "</div>"
      ],
      "text/plain": [
       "           EmployeeName  TotalPayBenefits\n",
       "0        NATHANIEL FORD         567595.43\n",
       "1          GARY JIMENEZ         538909.28\n",
       "2           David Shinn         510732.68\n",
       "3            Amy P Hart         479652.21\n",
       "4  William J Coaker Jr.         436224.36\n",
       "5        Gregory P Suhr         425815.28\n",
       "6  Joanne M Hayes-White         422353.40\n",
       "7        Gregory P Suhr         418019.22\n",
       "8  Joanne M Hayes-White         417435.10\n",
       "9       Ellen G Moffatt         415767.94"
      ]
     },
     "execution_count": 36,
     "metadata": {},
     "output_type": "execute_result"
    }
   ],
   "source": [
    "query = \"\"\"\n",
    "SELECT EmployeeName, TotalPayBenefits\n",
    "FROM Salaries\n",
    "ORDER BY TotalPayBenefits DESC\n",
    "LIMIT 10;\n",
    "\"\"\"\n",
    "\n",
    "top_10_paid = pd.read_sql_query(query, conn)\n",
    "top_10_paid\n"
   ]
  },
  {
   "cell_type": "markdown",
   "id": "e7877eae-ab00-4fe5-bccd-2869a3be2185",
   "metadata": {},
   "source": [
    "2. Find which year has missing data of Employees with 'Not Provided'/ 'Not provided' ."
   ]
  },
  {
   "cell_type": "code",
   "execution_count": 39,
   "id": "532229a0-ae49-40c9-907a-86cf51be0c93",
   "metadata": {},
   "outputs": [
    {
     "data": {
      "text/html": [
       "<div>\n",
       "<style scoped>\n",
       "    .dataframe tbody tr th:only-of-type {\n",
       "        vertical-align: middle;\n",
       "    }\n",
       "\n",
       "    .dataframe tbody tr th {\n",
       "        vertical-align: top;\n",
       "    }\n",
       "\n",
       "    .dataframe thead th {\n",
       "        text-align: right;\n",
       "    }\n",
       "</style>\n",
       "<table border=\"1\" class=\"dataframe\">\n",
       "  <thead>\n",
       "    <tr style=\"text-align: right;\">\n",
       "      <th></th>\n",
       "      <th>Year</th>\n",
       "      <th>MissingJobTitles</th>\n",
       "    </tr>\n",
       "  </thead>\n",
       "  <tbody>\n",
       "    <tr>\n",
       "      <th>0</th>\n",
       "      <td>2014</td>\n",
       "      <td>4</td>\n",
       "    </tr>\n",
       "  </tbody>\n",
       "</table>\n",
       "</div>"
      ],
      "text/plain": [
       "   Year  MissingJobTitles\n",
       "0  2014                 4"
      ]
     },
     "execution_count": 39,
     "metadata": {},
     "output_type": "execute_result"
    }
   ],
   "source": [
    "query = \"\"\"\n",
    "SELECT Year, COUNT(*) AS MissingJobTitles\n",
    "FROM Salaries\n",
    "WHERE JobTitle IN ('Not Provided', 'Not provided')\n",
    "GROUP BY Year\n",
    "ORDER BY MissingJobTitles DESC;\n",
    "\"\"\"\n",
    "\n",
    "missing_titles = pd.read_sql_query(query, conn)\n",
    "missing_titles\n"
   ]
  },
  {
   "cell_type": "markdown",
   "id": "7f6ddf08-55a9-47d2-b8a9-45f557e3af7c",
   "metadata": {},
   "source": [
    "3. Number of unique agencies"
   ]
  },
  {
   "cell_type": "code",
   "execution_count": 41,
   "id": "78e4f67e-1afa-4503-86f8-9ea48df598cd",
   "metadata": {},
   "outputs": [
    {
     "data": {
      "text/html": [
       "<div>\n",
       "<style scoped>\n",
       "    .dataframe tbody tr th:only-of-type {\n",
       "        vertical-align: middle;\n",
       "    }\n",
       "\n",
       "    .dataframe tbody tr th {\n",
       "        vertical-align: top;\n",
       "    }\n",
       "\n",
       "    .dataframe thead th {\n",
       "        text-align: right;\n",
       "    }\n",
       "</style>\n",
       "<table border=\"1\" class=\"dataframe\">\n",
       "  <thead>\n",
       "    <tr style=\"text-align: right;\">\n",
       "      <th></th>\n",
       "      <th>UniqueAgencyCount</th>\n",
       "    </tr>\n",
       "  </thead>\n",
       "  <tbody>\n",
       "    <tr>\n",
       "      <th>0</th>\n",
       "      <td>1</td>\n",
       "    </tr>\n",
       "  </tbody>\n",
       "</table>\n",
       "</div>"
      ],
      "text/plain": [
       "   UniqueAgencyCount\n",
       "0                  1"
      ]
     },
     "execution_count": 41,
     "metadata": {},
     "output_type": "execute_result"
    }
   ],
   "source": [
    "query = \"\"\"\n",
    "SELECT COUNT(DISTINCT Agency) AS UniqueAgencyCount\n",
    "FROM Salaries;\n",
    "\"\"\"\n",
    "\n",
    "unique_agencies = pd.read_sql_query(query, conn)\n",
    "unique_agencies\n"
   ]
  },
  {
   "cell_type": "markdown",
   "id": "7e0ee36d-2fae-42d5-9ae8-a27ea5bb944b",
   "metadata": {},
   "source": [
    "4. Show Average BasePay, OvertimePay, and TotalPay for year 2011"
   ]
  },
  {
   "cell_type": "code",
   "execution_count": 43,
   "id": "836a2221-03a9-410f-b7a8-cc98409943d3",
   "metadata": {},
   "outputs": [
    {
     "data": {
      "text/html": [
       "<div>\n",
       "<style scoped>\n",
       "    .dataframe tbody tr th:only-of-type {\n",
       "        vertical-align: middle;\n",
       "    }\n",
       "\n",
       "    .dataframe tbody tr th {\n",
       "        vertical-align: top;\n",
       "    }\n",
       "\n",
       "    .dataframe thead th {\n",
       "        text-align: right;\n",
       "    }\n",
       "</style>\n",
       "<table border=\"1\" class=\"dataframe\">\n",
       "  <thead>\n",
       "    <tr style=\"text-align: right;\">\n",
       "      <th></th>\n",
       "      <th>Avg_BasePay</th>\n",
       "      <th>Avg_OvertimePay</th>\n",
       "      <th>Avg_TotalPay</th>\n",
       "    </tr>\n",
       "  </thead>\n",
       "  <tbody>\n",
       "    <tr>\n",
       "      <th>0</th>\n",
       "      <td>63595.956517</td>\n",
       "      <td>4531.065429</td>\n",
       "      <td>71744.103871</td>\n",
       "    </tr>\n",
       "  </tbody>\n",
       "</table>\n",
       "</div>"
      ],
      "text/plain": [
       "    Avg_BasePay  Avg_OvertimePay  Avg_TotalPay\n",
       "0  63595.956517      4531.065429  71744.103871"
      ]
     },
     "execution_count": 43,
     "metadata": {},
     "output_type": "execute_result"
    }
   ],
   "source": [
    "query = \"\"\"\n",
    "SELECT \n",
    "    AVG(BasePay) AS Avg_BasePay,\n",
    "    AVG(OvertimePay) AS Avg_OvertimePay,\n",
    "    AVG(TotalPay) AS Avg_TotalPay\n",
    "FROM Salaries\n",
    "WHERE Year = 2011;\n",
    "\"\"\"\n",
    "\n",
    "averages_2011 = pd.read_sql_query(query, conn)\n",
    "averages_2011\n"
   ]
  },
  {
   "cell_type": "markdown",
   "id": "f84b422b-f759-48cc-93dc-21fdc82e0686",
   "metadata": {},
   "source": [
    "5. Plot the top 10 job titles with the highest TotalPay in 2014."
   ]
  },
  {
   "cell_type": "code",
   "execution_count": 45,
   "id": "665a7299-2b7e-4294-9d0b-310424223580",
   "metadata": {},
   "outputs": [
    {
     "data": {
      "image/png": "[encoded data removed]",
      "text/plain": [
       "<Figure size 1200x600 with 1 Axes>"
      ]
     },
     "metadata": {},
     "output_type": "display_data"
    }
   ],
   "source": [
    "import matplotlib.pyplot as plt\n",
    "\n",
    "# SQL query to get top 10 job titles by total pay in 2014\n",
    "query = \"\"\"\n",
    "SELECT JobTitle, SUM(TotalPay) AS TotalPaySum\n",
    "FROM Salaries\n",
    "WHERE Year = 2014\n",
    "GROUP BY JobTitle\n",
    "ORDER BY TotalPaySum DESC\n",
    "LIMIT 10;\n",
    "\"\"\"\n",
    "\n",
    "top_jobs_2014 = pd.read_sql_query(query, conn)\n",
    "\n",
    "# Plot\n",
    "plt.figure(figsize=(12, 6))\n",
    "plt.bar(top_jobs_2014['JobTitle'], top_jobs_2014['TotalPaySum'], color='skyblue')\n",
    "plt.xticks(rotation=45, ha='right')\n",
    "plt.xlabel(\"Job Title\")\n",
    "plt.ylabel(\"Total Pay\")\n",
    "plt.title(\"Top 10 Job Titles by Total Pay in 2014\")\n",
    "plt.tight_layout()\n",
    "plt.show()\n"
   ]
  },
  {
   "cell_type": "markdown",
   "id": "f32fe3b9-cb23-4c4b-a835-665a307f8966",
   "metadata": {},
   "source": [
    "6. Which job titles have overtime pay exceeding $150,000 exluding 'Not provided'"
   ]
  },
  {
   "cell_type": "code",
   "execution_count": 47,
   "id": "96952ac1-6ffe-4747-b51d-43270f880e54",
   "metadata": {},
   "outputs": [
    {
     "data": {
      "text/html": [
       "<div>\n",
       "<style scoped>\n",
       "    .dataframe tbody tr th:only-of-type {\n",
       "        vertical-align: middle;\n",
       "    }\n",
       "\n",
       "    .dataframe tbody tr th {\n",
       "        vertical-align: top;\n",
       "    }\n",
       "\n",
       "    .dataframe thead th {\n",
       "        text-align: right;\n",
       "    }\n",
       "</style>\n",
       "<table border=\"1\" class=\"dataframe\">\n",
       "  <thead>\n",
       "    <tr style=\"text-align: right;\">\n",
       "      <th></th>\n",
       "      <th>JobTitle</th>\n",
       "    </tr>\n",
       "  </thead>\n",
       "  <tbody>\n",
       "    <tr>\n",
       "      <th>0</th>\n",
       "      <td>CAPTAIN III (POLICE DEPARTMENT)</td>\n",
       "    </tr>\n",
       "    <tr>\n",
       "      <th>1</th>\n",
       "      <td>Lieutenant, Fire Suppression</td>\n",
       "    </tr>\n",
       "    <tr>\n",
       "      <th>2</th>\n",
       "      <td>EMT/Paramedic/Firefighter</td>\n",
       "    </tr>\n",
       "    <tr>\n",
       "      <th>3</th>\n",
       "      <td>Firefighter</td>\n",
       "    </tr>\n",
       "    <tr>\n",
       "      <th>4</th>\n",
       "      <td>Deputy Sheriff</td>\n",
       "    </tr>\n",
       "    <tr>\n",
       "      <th>5</th>\n",
       "      <td>Not provided</td>\n",
       "    </tr>\n",
       "  </tbody>\n",
       "</table>\n",
       "</div>"
      ],
      "text/plain": [
       "                          JobTitle\n",
       "0  CAPTAIN III (POLICE DEPARTMENT)\n",
       "1     Lieutenant, Fire Suppression\n",
       "2        EMT/Paramedic/Firefighter\n",
       "3                      Firefighter\n",
       "4                   Deputy Sheriff\n",
       "5                     Not provided"
      ]
     },
     "execution_count": 47,
     "metadata": {},
     "output_type": "execute_result"
    }
   ],
   "source": [
    "query = \"\"\"\n",
    "SELECT DISTINCT JobTitle\n",
    "FROM Salaries\n",
    "WHERE OvertimePay > 150000\n",
    "  AND JobTitle NOT IN ('Not Provided', 'not provided', 'NOT PROVIDED');\n",
    "\"\"\"\n",
    "\n",
    "high_overtime_titles = pd.read_sql_query(query, conn)\n",
    "high_overtime_titles\n"
   ]
  },
  {
   "cell_type": "markdown",
   "id": "061fa47a-0037-4dba-a323-f76a4d760ffb",
   "metadata": {},
   "source": [
    "7. Find all employees whose job titles contain the word “CHIEF”"
   ]
  },
  {
   "cell_type": "code",
   "execution_count": 49,
   "id": "18cd99c8-da3f-471f-9034-3ca05377dc47",
   "metadata": {},
   "outputs": [
    {
     "data": {
      "text/html": [
       "<div>\n",
       "<style scoped>\n",
       "    .dataframe tbody tr th:only-of-type {\n",
       "        vertical-align: middle;\n",
       "    }\n",
       "\n",
       "    .dataframe tbody tr th {\n",
       "        vertical-align: top;\n",
       "    }\n",
       "\n",
       "    .dataframe thead th {\n",
       "        text-align: right;\n",
       "    }\n",
       "</style>\n",
       "<table border=\"1\" class=\"dataframe\">\n",
       "  <thead>\n",
       "    <tr style=\"text-align: right;\">\n",
       "      <th></th>\n",
       "      <th>EmployeeName</th>\n",
       "      <th>JobTitle</th>\n",
       "      <th>TotalPay</th>\n",
       "      <th>Year</th>\n",
       "    </tr>\n",
       "  </thead>\n",
       "  <tbody>\n",
       "    <tr>\n",
       "      <th>0</th>\n",
       "      <td>PATRICK GARDNER</td>\n",
       "      <td>DEPUTY CHIEF OF DEPARTMENT,(FIRE DEPARTMENT)</td>\n",
       "      <td>326373.19</td>\n",
       "      <td>2011</td>\n",
       "    </tr>\n",
       "    <tr>\n",
       "      <th>1</th>\n",
       "      <td>DAVID SULLIVAN</td>\n",
       "      <td>ASSISTANT DEPUTY CHIEF II</td>\n",
       "      <td>316285.74</td>\n",
       "      <td>2011</td>\n",
       "    </tr>\n",
       "    <tr>\n",
       "      <th>2</th>\n",
       "      <td>ALSON LEE</td>\n",
       "      <td>BATTALION CHIEF, (FIRE DEPARTMENT)</td>\n",
       "      <td>315981.05</td>\n",
       "      <td>2011</td>\n",
       "    </tr>\n",
       "    <tr>\n",
       "      <th>3</th>\n",
       "      <td>MICHAEL MORRIS</td>\n",
       "      <td>BATTALION CHIEF, (FIRE DEPARTMENT)</td>\n",
       "      <td>303427.55</td>\n",
       "      <td>2011</td>\n",
       "    </tr>\n",
       "    <tr>\n",
       "      <th>4</th>\n",
       "      <td>JOANNE HAYES-WHITE</td>\n",
       "      <td>CHIEF OF DEPARTMENT, (FIRE DEPARTMENT)</td>\n",
       "      <td>302377.73</td>\n",
       "      <td>2011</td>\n",
       "    </tr>\n",
       "    <tr>\n",
       "      <th>...</th>\n",
       "      <td>...</td>\n",
       "      <td>...</td>\n",
       "      <td>...</td>\n",
       "      <td>...</td>\n",
       "    </tr>\n",
       "    <tr>\n",
       "      <th>622</th>\n",
       "      <td>Sharon C Jackson</td>\n",
       "      <td>Chief Deputy Adlt Probation Of</td>\n",
       "      <td>56660.18</td>\n",
       "      <td>2014</td>\n",
       "    </tr>\n",
       "    <tr>\n",
       "      <th>623</th>\n",
       "      <td>Anita S Lee</td>\n",
       "      <td>Chief Clerk</td>\n",
       "      <td>38598.86</td>\n",
       "      <td>2014</td>\n",
       "    </tr>\n",
       "    <tr>\n",
       "      <th>624</th>\n",
       "      <td>George D Vaughan</td>\n",
       "      <td>Chief Nursery Specialist</td>\n",
       "      <td>27803.37</td>\n",
       "      <td>2014</td>\n",
       "    </tr>\n",
       "    <tr>\n",
       "      <th>625</th>\n",
       "      <td>Patrick W Gillespie</td>\n",
       "      <td>Chief Preparator</td>\n",
       "      <td>24091.00</td>\n",
       "      <td>2014</td>\n",
       "    </tr>\n",
       "    <tr>\n",
       "      <th>626</th>\n",
       "      <td>Christopher L Ochoa</td>\n",
       "      <td>Chief Stationary Engineer</td>\n",
       "      <td>24810.71</td>\n",
       "      <td>2014</td>\n",
       "    </tr>\n",
       "  </tbody>\n",
       "</table>\n",
       "<p>627 rows × 4 columns</p>\n",
       "</div>"
      ],
      "text/plain": [
       "            EmployeeName                                      JobTitle  \\\n",
       "0        PATRICK GARDNER  DEPUTY CHIEF OF DEPARTMENT,(FIRE DEPARTMENT)   \n",
       "1         DAVID SULLIVAN                     ASSISTANT DEPUTY CHIEF II   \n",
       "2              ALSON LEE            BATTALION CHIEF, (FIRE DEPARTMENT)   \n",
       "3         MICHAEL MORRIS            BATTALION CHIEF, (FIRE DEPARTMENT)   \n",
       "4     JOANNE HAYES-WHITE        CHIEF OF DEPARTMENT, (FIRE DEPARTMENT)   \n",
       "..                   ...                                           ...   \n",
       "622     Sharon C Jackson                Chief Deputy Adlt Probation Of   \n",
       "623          Anita S Lee                                   Chief Clerk   \n",
       "624     George D Vaughan                      Chief Nursery Specialist   \n",
       "625  Patrick W Gillespie                              Chief Preparator   \n",
       "626  Christopher L Ochoa                     Chief Stationary Engineer   \n",
       "\n",
       "      TotalPay  Year  \n",
       "0    326373.19  2011  \n",
       "1    316285.74  2011  \n",
       "2    315981.05  2011  \n",
       "3    303427.55  2011  \n",
       "4    302377.73  2011  \n",
       "..         ...   ...  \n",
       "622   56660.18  2014  \n",
       "623   38598.86  2014  \n",
       "624   27803.37  2014  \n",
       "625   24091.00  2014  \n",
       "626   24810.71  2014  \n",
       "\n",
       "[627 rows x 4 columns]"
      ]
     },
     "execution_count": 49,
     "metadata": {},
     "output_type": "execute_result"
    }
   ],
   "source": [
    "query = \"\"\"\n",
    "SELECT EmployeeName, JobTitle, TotalPay, Year\n",
    "FROM Salaries\n",
    "WHERE UPPER(JobTitle) LIKE '%CHIEF%';\n",
    "\"\"\"\n",
    "\n",
    "chief_employees = pd.read_sql_query(query, conn)\n",
    "chief_employees\n"
   ]
  },
  {
   "cell_type": "markdown",
   "id": "1b9133c1-a679-4a32-aee5-8b9b8558bccb",
   "metadata": {},
   "source": [
    "8. Count how many employees have job titles containing “ENGINEER” and “Fire” in year 2012 and 2013"
   ]
  },
  {
   "cell_type": "code",
   "execution_count": 51,
   "id": "4f852a14-c977-4620-946e-b5ddd8164f48",
   "metadata": {},
   "outputs": [
    {
     "data": {
      "text/html": [
       "<div>\n",
       "<style scoped>\n",
       "    .dataframe tbody tr th:only-of-type {\n",
       "        vertical-align: middle;\n",
       "    }\n",
       "\n",
       "    .dataframe tbody tr th {\n",
       "        vertical-align: top;\n",
       "    }\n",
       "\n",
       "    .dataframe thead th {\n",
       "        text-align: right;\n",
       "    }\n",
       "</style>\n",
       "<table border=\"1\" class=\"dataframe\">\n",
       "  <thead>\n",
       "    <tr style=\"text-align: right;\">\n",
       "      <th></th>\n",
       "      <th>EmployeeCount</th>\n",
       "    </tr>\n",
       "  </thead>\n",
       "  <tbody>\n",
       "    <tr>\n",
       "      <th>0</th>\n",
       "      <td>4969</td>\n",
       "    </tr>\n",
       "  </tbody>\n",
       "</table>\n",
       "</div>"
      ],
      "text/plain": [
       "   EmployeeCount\n",
       "0           4969"
      ]
     },
     "execution_count": 51,
     "metadata": {},
     "output_type": "execute_result"
    }
   ],
   "source": [
    "query = \"\"\"\n",
    "SELECT COUNT(*) AS EmployeeCount\n",
    "FROM Salaries\n",
    "WHERE (JobTitle LIKE '%ENGINEER%' OR JobTitle LIKE '%Fire%')\n",
    "  AND Year IN (2012, 2013);\n",
    "\"\"\"\n",
    "\n",
    "engineer_fire_count = pd.read_sql_query(query, conn)\n",
    "engineer_fire_count\n"
   ]
  },
  {
   "cell_type": "markdown",
   "id": "f4d70e76-7c3e-44fa-991b-739a5bfd37cf",
   "metadata": {},
   "source": [
    "9. Distinct job titles starting with \"CAPTAIN\""
   ]
  },
  {
   "cell_type": "code",
   "execution_count": 53,
   "id": "492454b8-1f07-46a6-a46e-a9ef7ba6f45f",
   "metadata": {},
   "outputs": [
    {
     "data": {
      "text/html": [
       "<div>\n",
       "<style scoped>\n",
       "    .dataframe tbody tr th:only-of-type {\n",
       "        vertical-align: middle;\n",
       "    }\n",
       "\n",
       "    .dataframe tbody tr th {\n",
       "        vertical-align: top;\n",
       "    }\n",
       "\n",
       "    .dataframe thead th {\n",
       "        text-align: right;\n",
       "    }\n",
       "</style>\n",
       "<table border=\"1\" class=\"dataframe\">\n",
       "  <thead>\n",
       "    <tr style=\"text-align: right;\">\n",
       "      <th></th>\n",
       "      <th>JobTitle</th>\n",
       "    </tr>\n",
       "  </thead>\n",
       "  <tbody>\n",
       "    <tr>\n",
       "      <th>0</th>\n",
       "      <td>CAPTAIN III (POLICE DEPARTMENT)</td>\n",
       "    </tr>\n",
       "    <tr>\n",
       "      <th>1</th>\n",
       "      <td>CAPTAIN, EMERGENCYCY MEDICAL SERVICES</td>\n",
       "    </tr>\n",
       "    <tr>\n",
       "      <th>2</th>\n",
       "      <td>CAPTAIN, FIRE SUPPRESSION</td>\n",
       "    </tr>\n",
       "    <tr>\n",
       "      <th>3</th>\n",
       "      <td>CAPTAIN, BUREAU OF FIRE PREVENTION AND PUBLIC ...</td>\n",
       "    </tr>\n",
       "    <tr>\n",
       "      <th>4</th>\n",
       "      <td>Captain 3</td>\n",
       "    </tr>\n",
       "    <tr>\n",
       "      <th>5</th>\n",
       "      <td>Captain, Fire Suppression</td>\n",
       "    </tr>\n",
       "    <tr>\n",
       "      <th>6</th>\n",
       "      <td>Captain, Emergency Med Svcs</td>\n",
       "    </tr>\n",
       "    <tr>\n",
       "      <th>7</th>\n",
       "      <td>Captain, (Fire Department)</td>\n",
       "    </tr>\n",
       "  </tbody>\n",
       "</table>\n",
       "</div>"
      ],
      "text/plain": [
       "                                            JobTitle\n",
       "0                    CAPTAIN III (POLICE DEPARTMENT)\n",
       "1              CAPTAIN, EMERGENCYCY MEDICAL SERVICES\n",
       "2                          CAPTAIN, FIRE SUPPRESSION\n",
       "3  CAPTAIN, BUREAU OF FIRE PREVENTION AND PUBLIC ...\n",
       "4                                          Captain 3\n",
       "5                          Captain, Fire Suppression\n",
       "6                        Captain, Emergency Med Svcs\n",
       "7                         Captain, (Fire Department)"
      ]
     },
     "execution_count": 53,
     "metadata": {},
     "output_type": "execute_result"
    }
   ],
   "source": [
    "query = \"\"\"\n",
    "SELECT DISTINCT JobTitle\n",
    "FROM Salaries\n",
    "WHERE JobTitle LIKE 'CAPTAIN%';\n",
    "\"\"\"\n",
    "\n",
    "captain_titles = pd.read_sql_query(query, conn)\n",
    "captain_titles\n"
   ]
  },
  {
   "cell_type": "markdown",
   "id": "51e433d7-10f2-43b1-a3f1-fade1228d0a7",
   "metadata": {},
   "source": [
    "10. Employees having basepay > 50k and totalpay < 150000 exlucding 'Not Provided'"
   ]
  },
  {
   "cell_type": "code",
   "execution_count": null,
   "id": "570626f5-6c6d-45cb-a3fd-092658da45a6",
   "metadata": {},
   "outputs": [],
   "source": [
    "query = \"\"\"\n",
    "SELECT EmployeeName, JobTitle, BasePay, TotalPay, Year\n",
    "FROM Salaries\n",
    "WHERE BasePay > 50000\n",
    "  AND TotalPay < 150000\n",
    "  AND LOWER(JobTitle) != 'not provided';\n",
    "\"\"\"\n",
    "\n",
    "filtered_employees = pd.read_sql_query(query, conn)\n",
    "filtered_employees\n"
   ]
  }
 ],
 "metadata": {
  "kernelspec": {
   "display_name": "Python [conda env:base] *",
   "language": "python",
   "name": "conda-base-py"
  },
  "language_info": {
   "codemirror_mode": {
    "name": "ipython",
    "version": 3
   },
   "file_extension": ".py",
   "mimetype": "text/x-python",
   "name": "python",
   "nbconvert_exporter": "python",
   "pygments_lexer": "ipython3",
   "version": "3.12.7"
  }
 },
 "nbformat": 4,
 "nbformat_minor": 5
}
