{
 "cells": [
  {
   "cell_type": "markdown",
   "id": "d87ac2e7-8041-48c6-aa52-47ddd2cb0330",
   "metadata": {},
   "source": [
    "1. Question:\n",
    "\n",
    "Imagine a scenario where we have two classes:\n",
    "\n",
    "Person: Represents a person with attributes like name and age, and a method introduce() to introduce the person.\n",
    "\n",
    "Employee: Represents an employee with attributes like employee_id and department, and a method work() to describe the work of the employee.\n",
    "\n",
    "Create a child class Manager that inherits from both Person and Employee. The Manager class should have a method manage() that describes the work the manager does. Instantiate a Manager object and call all methods (introduce(), work(), and manage()).\n",
    "\n",
    "Expected Output:\n",
    "\n",
    "- Hello, my name is John and I am 35 years old.\n",
    "- Employee M123 is working in HR department.\n",
    "- Manager John is managing the team in the HR department.\n"
   ]
  },
  {
   "cell_type": "code",
   "execution_count": 17,
   "id": "dfd2bc80-25c5-44b7-8bc3-ae28dad64f0b",
   "metadata": {},
   "outputs": [
    {
     "name": "stdout",
     "output_type": "stream",
     "text": [
      "Hello, my name is John and I am 35 years old\n",
      "Employee M123 is working in HR department.\n",
      "Manager John is managing the team in the HR department.\n"
     ]
    }
   ],
   "source": [
    "class Person:\n",
    "    def __init__(self, name, age):\n",
    "        self.name = name\n",
    "        self.age = age\n",
    "\n",
    "    def introduce(self):\n",
    "        print(f\"Hello, my name is {self.name} and I am {self.age} years old\")\n",
    "\n",
    "class Employee:\n",
    "    def __init__(self, employee_id, department):\n",
    "        self.employee_id = employee_id\n",
    "        self.department = department\n",
    "\n",
    "    def work(self):\n",
    "        print(f\"Employee {self.employee_id} is working in {self.department} department.\")\n",
    "\n",
    "# Child Class\n",
    "\n",
    "class Manager(Person, Employee):\n",
    "    def __init__(self, name, age, employee_id, department):\n",
    "        Person.__init__(self, name, age)\n",
    "        Employee.__init__(self, employee_id, department)\n",
    "        \n",
    "\n",
    "    def manage(self):\n",
    "        print(f\"Manager {self.name} is managing the team in the {self.department} department.\")\n",
    "\n",
    "p1 = Person(\"John\", 35)\n",
    "emp1 = Employee(\"M123\", \"HR\")\n",
    "mng1 = Manager(\"John\", 35, \"M123\", \"HR\")\n",
    "\n",
    "p1.introduce()\n",
    "emp1.work()\n",
    "mng1.manage()\n",
    "    \n"
   ]
  },
  {
   "cell_type": "markdown",
   "id": "4a896d59-313a-41eb-8f81-cb1af3dfb8f1",
   "metadata": {},
   "source": [
    "2. Create a class Greeting with a method greet() that can handle different numbers of arguments.\n",
    "\n",
    "- If no argument is passed, it should print \"Hello!\".\n",
    "- If one argument (a name) is passed, it should print \"Hello, <name>!\".\n",
    "- If two arguments (a name and a greeting) are passed, it should print the greeting with the name (e.g., \"Good morning, <name>!\").\n",
    "\n",
    "Simulate method overloading using default arguments or variable-length arguments, and demonstrate the polymorphic behavior by calling greet() with different numbers of arguments.\n",
    "\n",
    "Expected Output:\n",
    "\n",
    "- Hello!\n",
    "- Hello, John!\n",
    "- Good morning, John!\n"
   ]
  },
  {
   "cell_type": "code",
   "execution_count": 53,
   "id": "996e5856-86fe-4e54-95e9-952e795dd44d",
   "metadata": {},
   "outputs": [
    {
     "name": "stdout",
     "output_type": "stream",
     "text": [
      "Hello\n",
      "Hello, John!\n",
      "Good Morning, John!\n"
     ]
    }
   ],
   "source": [
    "class Greeting:\n",
    "    def greet(self, *args):\n",
    "        if len(args) == 0: \n",
    "            print(\"Hello\")\n",
    "        elif len(args) == 1:\n",
    "            name = args[0]\n",
    "            print(f\"Hello, {name}!\")\n",
    "        elif len(args) == 2:\n",
    "            name, greetings = args\n",
    "            print(f\"{greetings}, {name}!\")\n",
    "        else:\n",
    "            print(\"To many arguments!\")\n",
    "\n",
    "greet1 = Greeting()\n",
    "\n",
    "greet1.greet()\n",
    "greet1.greet(\"John\")\n",
    "greet1.greet(\"John\", \"Good Morning\")\n"
   ]
  },
  {
   "cell_type": "markdown",
   "id": "f1a4787e-750f-4ad1-b4ba-75ec1bb81e3e",
   "metadata": {},
   "source": [
    "3. Create a class SecuritySystem to manage a Security PIN. The class should have:\n",
    "\n",
    "- A private attribute __pin to store the PIN.\n",
    "- A method validate_pin(pin) that checks if the input PIN matches the stored one.\n",
    "- A method change_pin(old_pin, new_pin) to allow the user to change their PIN. The method should:\n",
    "    - Ensure the old PIN is correct.\n",
    "    - Ensure the new PIN is a 4-digit number.\n",
    "\n",
    "Demonstrate the following:\n",
    "\n",
    "- Validate the PIN.\n",
    "- Change the PIN with correct and incorrect old PINs, and valid/invalid new PINs.\n",
    "\n",
    "Expected Output:\n",
    "\n",
    "- PIN validated successfully.\n",
    "- Invalid PIN.\n",
    "- PIN changed successfully.\n",
    "- New PIN must be a 4-digit number.\n",
    "- Incorrect old PIN. PIN not changed.\n"
   ]
  },
  {
   "cell_type": "code",
   "execution_count": 85,
   "id": "5e6829b3-e121-4667-a5cd-6d4b67ce557f",
   "metadata": {},
   "outputs": [
    {
     "name": "stdout",
     "output_type": "stream",
     "text": [
      "PIN validated successfully.\n",
      "Invalid PIN.\n",
      "PIN changed successfully.\n",
      "Incorrect old PIN. PIN not changed.\n",
      "New PIN must be a 4-digit number.\n",
      "PIN validated successfully.\n"
     ]
    },
    {
     "data": {
      "text/plain": [
       "True"
      ]
     },
     "execution_count": 85,
     "metadata": {},
     "output_type": "execute_result"
    }
   ],
   "source": [
    "class SecuritySystem:\n",
    "    def __init__(self, pin):\n",
    "        self.__pin = pin \n",
    "\n",
    "    def validate_pin(self, pin):\n",
    "        if pin == self.__pin:\n",
    "            print(\"PIN validated successfully.\")\n",
    "            return True\n",
    "        else:\n",
    "            print(\"Invalid PIN.\")\n",
    "            return False\n",
    "\n",
    "    def change_pin(self, old_pin, new_pin):\n",
    "        if old_pin != self.__pin:\n",
    "            print(\"Incorrect old PIN. PIN not changed.\")\n",
    "            return\n",
    "        if len(new_pin) != 4 or not new_pin.isdigit():\n",
    "            print(\"New PIN must be a 4-digit number.\")\n",
    "            return\n",
    "        self.__pin = new_pin\n",
    "        print(\"PIN changed successfully.\")\n",
    "\n",
    "system = SecuritySystem(\"1234\")\n",
    "\n",
    "# Validate correct PIN\n",
    "system.validate_pin(\"1234\") \n",
    "\n",
    "# Validate incorrect PIN\n",
    "system.validate_pin(\"1000\") \n",
    "\n",
    "# Try changing PIN with correct old PIN and valid new PIN\n",
    "system.change_pin(\"1234\", \"5678\")  \n",
    "\n",
    "# Try changing PIN with incorrect old PIN\n",
    "system.change_pin(\"1111\", \"9999\")  \n",
    "\n",
    "# Try changing PIN with invalid new PIN (not 4-digit)\n",
    "system.change_pin(\"5678\", \"999\")  \n",
    "\n",
    "# Final validation to confirm change\n",
    "system.validate_pin(\"5678\")  "
   ]
  },
  {
   "cell_type": "markdown",
   "id": "1c70c9fc-177c-4f0a-a63a-31725e52a6e8",
   "metadata": {},
   "source": [
    "4. Use abstraction to model different geometric shapes such as circle and rectangle.\n",
    "\n",
    "Instructions:\n",
    "\n",
    "- Create an abstract class Shape with a method area to calculate the area.\n",
    "- Create concrete classes Circle and Rectangle that implement the area method.\n",
    "- Create instances of these shapes and calculate their areas.\n",
    "\n",
    "Expected Output:\n",
    "\n",
    "- Area of Circle: 78.5\n",
    "- Area of Rectangle: 24\n"
   ]
  },
  {
   "cell_type": "code",
   "execution_count": 61,
   "id": "8ffffd2e-4582-4f11-94b5-f4eaae49a646",
   "metadata": {},
   "outputs": [
    {
     "name": "stdout",
     "output_type": "stream",
     "text": [
      "Area of Circle: 78.5\n",
      "Area of Rectangle: 24\n"
     ]
    }
   ],
   "source": [
    "from abc import ABC, abstractmethod\n",
    "\n",
    "class Shape(ABC):\n",
    "    @abstractmethod\n",
    "    def area(self):\n",
    "        pass\n",
    "\n",
    "class Circle(Shape):\n",
    "    def __init__(self, radius):\n",
    "        self.radius = radius\n",
    "\n",
    "    def area(self):\n",
    "        return 3.14 * (self.radius ** 2)\n",
    "\n",
    "class Rectangle(Shape):\n",
    "    def __init__(self, width, height):\n",
    "        self.width = width\n",
    "        self.height = height\n",
    "\n",
    "    def area(self):\n",
    "        return self.width * self.height\n",
    "\n",
    "circle1 = Circle(5)\n",
    "rectangle1 = Rectangle(6, 4)\n",
    "\n",
    "print(f\"Area of Circle: {circle1.area()}\")      \n",
    "print(f\"Area of Rectangle: {rectangle1.area()}\") \n"
   ]
  },
  {
   "cell_type": "markdown",
   "id": "70a07851-af81-4e26-a9d1-94c92ffa0d6b",
   "metadata": {},
   "source": [
    "5. Create a class Notification with a method send(), which prints \"Sending notification\".\n",
    "Then, create two subclasses:\n",
    "\n",
    "EmailNotification: Override the send() method to print \"Sending email\".\n",
    "\n",
    "SMSNotification: Override the send() method to print \"Sending SMS\".\n",
    "\n",
    "Demonstrate method overriding calling send() on instances of EmailNotification and SMSNotification."
   ]
  },
  {
   "cell_type": "code",
   "execution_count": 71,
   "id": "b063a663-955e-4317-b68c-e2313bd0d440",
   "metadata": {},
   "outputs": [
    {
     "name": "stdout",
     "output_type": "stream",
     "text": [
      "Sending email\n",
      "Sending SMS\n"
     ]
    }
   ],
   "source": [
    "class Notification:\n",
    "    def send(self):\n",
    "        print(\"Sending notification\")\n",
    "\n",
    "class EmailNotification(Notification):\n",
    "    def send(self):\n",
    "        print(\"Sending email\")\n",
    "\n",
    "class SMSNotification(Notification):\n",
    "    def send(self):\n",
    "        print(\"Sending SMS\")\n",
    "\n",
    "email = EmailNotification()\n",
    "sms = SMSNotification()\n",
    "notification = Notification()\n",
    "\n",
    "email.send() \n",
    "sms.send()  \n",
    "\n",
    "# notification.send()\n"
   ]
  }
 ],
 "metadata": {
  "kernelspec": {
   "display_name": "Python [conda env:base] *",
   "language": "python",
   "name": "conda-base-py"
  },
  "language_info": {
   "codemirror_mode": {
    "name": "ipython",
    "version": 3
   },
   "file_extension": ".py",
   "mimetype": "text/x-python",
   "name": "python",
   "nbconvert_exporter": "python",
   "pygments_lexer": "ipython3",
   "version": "3.12.7"
  }
 },
 "nbformat": 4,
 "nbformat_minor": 5
}
